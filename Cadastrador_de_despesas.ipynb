{
  "nbformat": 4,
  "nbformat_minor": 0,
  "metadata": {
    "colab": {
      "provenance": [],
      "authorship_tag": "ABX9TyPIPZcB4EsBqWiH6lZlV52d",
      "include_colab_link": true
    },
    "kernelspec": {
      "name": "python3",
      "display_name": "Python 3"
    },
    "language_info": {
      "name": "python"
    }
  },
  "cells": [
    {
      "cell_type": "markdown",
      "metadata": {
        "id": "view-in-github",
        "colab_type": "text"
      },
      "source": [
        "<a href=\"https://colab.research.google.com/github/GTaumaturgo/Experimental/blob/master/Cadastrador_de_despesas.ipynb\" target=\"_parent\"><img src=\"https://colab.research.google.com/assets/colab-badge.svg\" alt=\"Open In Colab\"/></a>"
      ]
    },
    {
      "cell_type": "markdown",
      "source": [
        "# Simplificador de gastos em viagem"
      ],
      "metadata": {
        "id": "SX7kAd2xi_Ij"
      }
    },
    {
      "cell_type": "code",
      "source": [
        "#@title Imports\n",
        "\n",
        "# !pip install --upgrade gspread\n",
        "\n",
        "from google.colab import auth\n",
        "import gspread\n",
        "from google.auth import default\n",
        "from oauth2client.client import GoogleCredentials\n",
        "import pandas as pd\n"
      ],
      "metadata": {
        "cellView": "form",
        "id": "bNK77LM0JLSm"
      },
      "execution_count": 98,
      "outputs": []
    },
    {
      "cell_type": "code",
      "source": [
        "#@title Util\n",
        "\n",
        "\n",
        "def run_gspread_auth():\n",
        "  \"\"\"\n",
        "  Authorizes with the Google Sheets API and returns the gspread client.\n",
        "\n",
        "  Returns:\n",
        "    The authorized gspread client object.\n",
        "  \"\"\"\n",
        "\n",
        "  # Authenticate with Google Sheets API\n",
        "  auth.authenticate_user()\n",
        "  creds, _ = default()\n",
        "  gc = gspread.authorize(creds)\n",
        "\n",
        "  return gc\n",
        "\n",
        "\n",
        "def read_from_sheets(spreadsheet_id, sheet_name):\n",
        "  \"\"\"\n",
        "  Reads data from a Google Spreadsheet and returns it as a pandas DataFrame.\n",
        "\n",
        "  Args:\n",
        "    spreadsheet_id: The ID of the Google Spreadsheet.\n",
        "    sheet_name: The name of the sheet to read from.\n",
        "\n",
        "  Returns:\n",
        "    A pandas DataFrame containing the data from the spreadsheet.\n",
        "  \"\"\"\n",
        "  import pandas as pd\n",
        "\n",
        "  # Open the spreadsheet and sheet\n",
        "  sh = run_gspread_auth().open_by_key(spreadsheet_id)\n",
        "  worksheet = sh.worksheet(sheet_name)\n",
        "\n",
        "  # Get all values from the sheet\n",
        "  data = worksheet.get_all_values()\n",
        "\n",
        "  # Create a pandas DataFrame from the data\n",
        "  df = pd.DataFrame(data[1:], columns=data[0])  # Assuming first row is header\n",
        "\n",
        "  return df\n",
        "\n",
        "def write_to_sheets(df, spreadsheet_id, sheet_name):\n",
        "  \"\"\"\n",
        "  Writes a pandas DataFrame to a Google Spreadsheet.\n",
        "\n",
        "  Args:\n",
        "    df: The pandas DataFrame to write.\n",
        "    spreadsheet_id: The ID of the Google Spreadsheet.\n",
        "    sheet_name: The name of the sheet to write to.\n",
        "  \"\"\"\n",
        "  # Open the spreadsheet and sheet\n",
        "  sh = run_gspread_auth().open_by_key(spreadsheet_id)\n",
        "  worksheet = sh.worksheet(sheet_name)\n",
        "\n",
        "  # Clear the existing data in the sheet\n",
        "  worksheet.clear()\n",
        "\n",
        "  # Write the DataFrame to the sheet\n",
        "  worksheet.update([df.columns.values.tolist()] + df.values.tolist())"
      ],
      "metadata": {
        "id": "zD7KHtfKk6Y2",
        "cellView": "form"
      },
      "execution_count": 99,
      "outputs": []
    },
    {
      "cell_type": "code",
      "execution_count": 100,
      "metadata": {
        "id": "W9SYBQMji74O"
      },
      "outputs": [],
      "source": [
        "# @title Parameters\n",
        "LIST_OF_PEOPLE = ['tartarugo', 'tiovski', 'andrey'] # @param\n",
        "SHEET_ID = '1vma-aqzudwA14Coj4lfX3FNeyoVILX4erRCQN7Vd9YI' #@param {type: \"string\"}\n",
        "# title of the sheet (aka tab)\n",
        "TAB_NAME = 'data' #@param {type: \"string\"}\n",
        "NUM_PEOPLE = len(LIST_OF_PEOPLE)\n",
        "# if false, we'll read the saved sheet instead of an empty one\n",
        "CREATE_NEW_SHEET = True #@param {type: \"boolean\"}"
      ]
    },
    {
      "cell_type": "markdown",
      "source": [
        "## Create new spreadsheet"
      ],
      "metadata": {
        "id": "T585jGq4SI8Y"
      }
    },
    {
      "cell_type": "code",
      "source": [
        "if CREATE_NEW_SHEET:\n",
        "  variable_columns = []\n",
        "  for i in range(NUM_PEOPLE):\n",
        "    variable_columns.append('pct_owes_%d' % i)\n",
        "  for i in range(NUM_PEOPLE):\n",
        "    variable_columns.append( 'pct_paid_%d' % i)\n",
        "\n",
        "  columns = ['what', 'price_usd', 'date'] + variable_columns\n",
        "  expenses_df = pd.DataFrame(columns=columns)\n",
        "  expenses_df"
      ],
      "metadata": {
        "id": "EpWpcuw0IOhZ"
      },
      "execution_count": 101,
      "outputs": []
    },
    {
      "cell_type": "markdown",
      "source": [
        "Now use the output DF to create N variables manually. (interactive form)"
      ],
      "metadata": {
        "id": "OKwGUTDmJ_6k"
      }
    },
    {
      "cell_type": "code",
      "source": [
        "if CREATE_NEW_SHEET:\n",
        "  for col in expenses_df.columns:\n",
        "    print(col)"
      ],
      "metadata": {
        "colab": {
          "base_uri": "https://localhost:8080/"
        },
        "id": "j3jOhfGBJoMZ",
        "outputId": "e0446fbc-f01b-4e2e-c576-4c6c981b7799"
      },
      "execution_count": 102,
      "outputs": [
        {
          "output_type": "stream",
          "name": "stdout",
          "text": [
            "what\n",
            "price_usd\n",
            "date\n",
            "pct_owes_0\n",
            "pct_owes_1\n",
            "pct_owes_2\n",
            "pct_paid_0\n",
            "pct_paid_1\n",
            "pct_paid_2\n"
          ]
        }
      ]
    },
    {
      "cell_type": "markdown",
      "source": [
        "## Reload existing sheet"
      ],
      "metadata": {
        "id": "N7Hy4OoSSSq4"
      }
    },
    {
      "cell_type": "code",
      "source": [
        "if not CREATE_NEW_SHEET:\n",
        "  expenses_df = read_from_sheets(SHEET_ID, TAB_NAME)"
      ],
      "metadata": {
        "id": "Xt3k_Xg0SVM4"
      },
      "execution_count": 103,
      "outputs": []
    },
    {
      "cell_type": "code",
      "source": [
        "#@title Validate expense entry\n",
        "\n",
        "def is_valid_expense(new_expense):\n",
        "  if new_expense['what'] == '':\n",
        "    return False\n",
        "  if new_expense['price_usd'] <= 0:\n",
        "    return False\n",
        "\n",
        "  total_pct_paid = 0\n",
        "  total_pct_owed = 0\n",
        "  for i in range(NUM_PEOPLE):\n",
        "    total_pct_paid += new_expense['pct_paid_%d' % i]\n",
        "    total_pct_owed += new_expense['pct_owes_%d' % i]\n",
        "  if total_pct_paid != 100 or total_pct_owed != 100:\n",
        "    return False\n",
        "  return True\n"
      ],
      "metadata": {
        "cellView": "form",
        "id": "42C4h6e4L0CT"
      },
      "execution_count": 104,
      "outputs": []
    },
    {
      "cell_type": "code",
      "source": [
        "\n",
        "WHAT = 'Steam deck' #@param {type: \"string\"}\n",
        "PRICE_USD = 1 #@param {type: \"number\"}\n",
        "PCT_OWES_0 = 100 #@param {type: \"number\"}\n",
        "PCT_OWES_1 = 0 #@param {type: \"number\"}\n",
        "PCT_OWES_2 = 0 #@param {type: \"number\"}\n",
        "PCT_PAID_0 = 0 #@param {type: \"number\"}\n",
        "PCT_PAID_1 = 100 #@param {type: \"number\"}\n",
        "PCT_PAID_2 = 0 #@param {type: \"number\"}\n",
        "DATE = '2023-04-01' #@param {type: \"date\"}\n",
        "\n",
        "new_expense = {\n",
        "    'what': WHAT,\n",
        "    'price_usd': PRICE_USD,\n",
        "    'pct_owes_0': PCT_OWES_0,\n",
        "    'pct_owes_1': PCT_OWES_1,\n",
        "    'pct_owes_2': PCT_OWES_2,\n",
        "    'pct_paid_0': PCT_PAID_0,\n",
        "    'pct_paid_1': PCT_PAID_1,\n",
        "    'pct_paid_2': PCT_PAID_2,\n",
        "    'date': DATE\n",
        "}\n",
        "\n",
        "if is_valid_expense(new_expense):\n",
        "  print('Valid expense! Success.')\n",
        "  expenses_df.loc[len(expenses_df)] = new_expense\n",
        "else:\n",
        "  print('Invalid expense! aborted')\n"
      ],
      "metadata": {
        "colab": {
          "base_uri": "https://localhost:8080/"
        },
        "id": "Ja3-icshKIO4",
        "outputId": "64e7371d-b168-465a-f6c3-b9ca9b21319e"
      },
      "execution_count": 105,
      "outputs": [
        {
          "output_type": "stream",
          "name": "stdout",
          "text": [
            "Valid expense! Success.\n"
          ]
        }
      ]
    },
    {
      "cell_type": "markdown",
      "source": [
        "##Check expenses"
      ],
      "metadata": {
        "id": "1q9zQSpDODT4"
      }
    },
    {
      "cell_type": "code",
      "source": [
        "expenses_df"
      ],
      "metadata": {
        "colab": {
          "base_uri": "https://localhost:8080/",
          "height": 98
        },
        "id": "2u5jeop6Mf4e",
        "outputId": "af27bf20-f04d-45f4-9712-2ad502fb7d0b"
      },
      "execution_count": 106,
      "outputs": [
        {
          "output_type": "execute_result",
          "data": {
            "text/plain": [
              "         what  price_usd        date  pct_owes_0  pct_owes_1  pct_owes_2  \\\n",
              "0  Steam deck          1  2023-04-01         100           0           0   \n",
              "\n",
              "   pct_paid_0  pct_paid_1  pct_paid_2  \n",
              "0           0         100           0  "
            ],
            "text/html": [
              "\n",
              "  <div id=\"df-70c68e31-a346-4a08-b341-ff03b09fbe46\" class=\"colab-df-container\">\n",
              "    <div>\n",
              "<style scoped>\n",
              "    .dataframe tbody tr th:only-of-type {\n",
              "        vertical-align: middle;\n",
              "    }\n",
              "\n",
              "    .dataframe tbody tr th {\n",
              "        vertical-align: top;\n",
              "    }\n",
              "\n",
              "    .dataframe thead th {\n",
              "        text-align: right;\n",
              "    }\n",
              "</style>\n",
              "<table border=\"1\" class=\"dataframe\">\n",
              "  <thead>\n",
              "    <tr style=\"text-align: right;\">\n",
              "      <th></th>\n",
              "      <th>what</th>\n",
              "      <th>price_usd</th>\n",
              "      <th>date</th>\n",
              "      <th>pct_owes_0</th>\n",
              "      <th>pct_owes_1</th>\n",
              "      <th>pct_owes_2</th>\n",
              "      <th>pct_paid_0</th>\n",
              "      <th>pct_paid_1</th>\n",
              "      <th>pct_paid_2</th>\n",
              "    </tr>\n",
              "  </thead>\n",
              "  <tbody>\n",
              "    <tr>\n",
              "      <th>0</th>\n",
              "      <td>Steam deck</td>\n",
              "      <td>1</td>\n",
              "      <td>2023-04-01</td>\n",
              "      <td>100</td>\n",
              "      <td>0</td>\n",
              "      <td>0</td>\n",
              "      <td>0</td>\n",
              "      <td>100</td>\n",
              "      <td>0</td>\n",
              "    </tr>\n",
              "  </tbody>\n",
              "</table>\n",
              "</div>\n",
              "    <div class=\"colab-df-buttons\">\n",
              "\n",
              "  <div class=\"colab-df-container\">\n",
              "    <button class=\"colab-df-convert\" onclick=\"convertToInteractive('df-70c68e31-a346-4a08-b341-ff03b09fbe46')\"\n",
              "            title=\"Convert this dataframe to an interactive table.\"\n",
              "            style=\"display:none;\">\n",
              "\n",
              "  <svg xmlns=\"http://www.w3.org/2000/svg\" height=\"24px\" viewBox=\"0 -960 960 960\">\n",
              "    <path d=\"M120-120v-720h720v720H120Zm60-500h600v-160H180v160Zm220 220h160v-160H400v160Zm0 220h160v-160H400v160ZM180-400h160v-160H180v160Zm440 0h160v-160H620v160ZM180-180h160v-160H180v160Zm440 0h160v-160H620v160Z\"/>\n",
              "  </svg>\n",
              "    </button>\n",
              "\n",
              "  <style>\n",
              "    .colab-df-container {\n",
              "      display:flex;\n",
              "      gap: 12px;\n",
              "    }\n",
              "\n",
              "    .colab-df-convert {\n",
              "      background-color: #E8F0FE;\n",
              "      border: none;\n",
              "      border-radius: 50%;\n",
              "      cursor: pointer;\n",
              "      display: none;\n",
              "      fill: #1967D2;\n",
              "      height: 32px;\n",
              "      padding: 0 0 0 0;\n",
              "      width: 32px;\n",
              "    }\n",
              "\n",
              "    .colab-df-convert:hover {\n",
              "      background-color: #E2EBFA;\n",
              "      box-shadow: 0px 1px 2px rgba(60, 64, 67, 0.3), 0px 1px 3px 1px rgba(60, 64, 67, 0.15);\n",
              "      fill: #174EA6;\n",
              "    }\n",
              "\n",
              "    .colab-df-buttons div {\n",
              "      margin-bottom: 4px;\n",
              "    }\n",
              "\n",
              "    [theme=dark] .colab-df-convert {\n",
              "      background-color: #3B4455;\n",
              "      fill: #D2E3FC;\n",
              "    }\n",
              "\n",
              "    [theme=dark] .colab-df-convert:hover {\n",
              "      background-color: #434B5C;\n",
              "      box-shadow: 0px 1px 3px 1px rgba(0, 0, 0, 0.15);\n",
              "      filter: drop-shadow(0px 1px 2px rgba(0, 0, 0, 0.3));\n",
              "      fill: #FFFFFF;\n",
              "    }\n",
              "  </style>\n",
              "\n",
              "    <script>\n",
              "      const buttonEl =\n",
              "        document.querySelector('#df-70c68e31-a346-4a08-b341-ff03b09fbe46 button.colab-df-convert');\n",
              "      buttonEl.style.display =\n",
              "        google.colab.kernel.accessAllowed ? 'block' : 'none';\n",
              "\n",
              "      async function convertToInteractive(key) {\n",
              "        const element = document.querySelector('#df-70c68e31-a346-4a08-b341-ff03b09fbe46');\n",
              "        const dataTable =\n",
              "          await google.colab.kernel.invokeFunction('convertToInteractive',\n",
              "                                                    [key], {});\n",
              "        if (!dataTable) return;\n",
              "\n",
              "        const docLinkHtml = 'Like what you see? Visit the ' +\n",
              "          '<a target=\"_blank\" href=https://colab.research.google.com/notebooks/data_table.ipynb>data table notebook</a>'\n",
              "          + ' to learn more about interactive tables.';\n",
              "        element.innerHTML = '';\n",
              "        dataTable['output_type'] = 'display_data';\n",
              "        await google.colab.output.renderOutput(dataTable, element);\n",
              "        const docLink = document.createElement('div');\n",
              "        docLink.innerHTML = docLinkHtml;\n",
              "        element.appendChild(docLink);\n",
              "      }\n",
              "    </script>\n",
              "  </div>\n",
              "\n",
              "\n",
              "  <div id=\"id_ab87c1f0-5b6b-4db1-9b0b-f9e864dceda1\">\n",
              "    <style>\n",
              "      .colab-df-generate {\n",
              "        background-color: #E8F0FE;\n",
              "        border: none;\n",
              "        border-radius: 50%;\n",
              "        cursor: pointer;\n",
              "        display: none;\n",
              "        fill: #1967D2;\n",
              "        height: 32px;\n",
              "        padding: 0 0 0 0;\n",
              "        width: 32px;\n",
              "      }\n",
              "\n",
              "      .colab-df-generate:hover {\n",
              "        background-color: #E2EBFA;\n",
              "        box-shadow: 0px 1px 2px rgba(60, 64, 67, 0.3), 0px 1px 3px 1px rgba(60, 64, 67, 0.15);\n",
              "        fill: #174EA6;\n",
              "      }\n",
              "\n",
              "      [theme=dark] .colab-df-generate {\n",
              "        background-color: #3B4455;\n",
              "        fill: #D2E3FC;\n",
              "      }\n",
              "\n",
              "      [theme=dark] .colab-df-generate:hover {\n",
              "        background-color: #434B5C;\n",
              "        box-shadow: 0px 1px 3px 1px rgba(0, 0, 0, 0.15);\n",
              "        filter: drop-shadow(0px 1px 2px rgba(0, 0, 0, 0.3));\n",
              "        fill: #FFFFFF;\n",
              "      }\n",
              "    </style>\n",
              "    <button class=\"colab-df-generate\" onclick=\"generateWithVariable('expenses_df')\"\n",
              "            title=\"Generate code using this dataframe.\"\n",
              "            style=\"display:none;\">\n",
              "\n",
              "  <svg xmlns=\"http://www.w3.org/2000/svg\" height=\"24px\"viewBox=\"0 0 24 24\"\n",
              "       width=\"24px\">\n",
              "    <path d=\"M7,19H8.4L18.45,9,17,7.55,7,17.6ZM5,21V16.75L18.45,3.32a2,2,0,0,1,2.83,0l1.4,1.43a1.91,1.91,0,0,1,.58,1.4,1.91,1.91,0,0,1-.58,1.4L9.25,21ZM18.45,9,17,7.55Zm-12,3A5.31,5.31,0,0,0,4.9,8.1,5.31,5.31,0,0,0,1,6.5,5.31,5.31,0,0,0,4.9,4.9,5.31,5.31,0,0,0,6.5,1,5.31,5.31,0,0,0,8.1,4.9,5.31,5.31,0,0,0,12,6.5,5.46,5.46,0,0,0,6.5,12Z\"/>\n",
              "  </svg>\n",
              "    </button>\n",
              "    <script>\n",
              "      (() => {\n",
              "      const buttonEl =\n",
              "        document.querySelector('#id_ab87c1f0-5b6b-4db1-9b0b-f9e864dceda1 button.colab-df-generate');\n",
              "      buttonEl.style.display =\n",
              "        google.colab.kernel.accessAllowed ? 'block' : 'none';\n",
              "\n",
              "      buttonEl.onclick = () => {\n",
              "        google.colab.notebook.generateWithVariable('expenses_df');\n",
              "      }\n",
              "      })();\n",
              "    </script>\n",
              "  </div>\n",
              "\n",
              "    </div>\n",
              "  </div>\n"
            ],
            "application/vnd.google.colaboratory.intrinsic+json": {
              "type": "dataframe",
              "variable_name": "expenses_df",
              "summary": "{\n  \"name\": \"expenses_df\",\n  \"rows\": 1,\n  \"fields\": [\n    {\n      \"column\": \"what\",\n      \"properties\": {\n        \"dtype\": \"string\",\n        \"num_unique_values\": 1,\n        \"samples\": [\n          \"Steam deck\"\n        ],\n        \"semantic_type\": \"\",\n        \"description\": \"\"\n      }\n    },\n    {\n      \"column\": \"price_usd\",\n      \"properties\": {\n        \"dtype\": \"number\",\n        \"std\": null,\n        \"min\": 1,\n        \"max\": 1,\n        \"num_unique_values\": 1,\n        \"samples\": [\n          1\n        ],\n        \"semantic_type\": \"\",\n        \"description\": \"\"\n      }\n    },\n    {\n      \"column\": \"date\",\n      \"properties\": {\n        \"dtype\": \"object\",\n        \"num_unique_values\": 1,\n        \"samples\": [\n          \"2023-04-01\"\n        ],\n        \"semantic_type\": \"\",\n        \"description\": \"\"\n      }\n    },\n    {\n      \"column\": \"pct_owes_0\",\n      \"properties\": {\n        \"dtype\": \"number\",\n        \"std\": null,\n        \"min\": 100,\n        \"max\": 100,\n        \"num_unique_values\": 1,\n        \"samples\": [\n          100\n        ],\n        \"semantic_type\": \"\",\n        \"description\": \"\"\n      }\n    },\n    {\n      \"column\": \"pct_owes_1\",\n      \"properties\": {\n        \"dtype\": \"number\",\n        \"std\": null,\n        \"min\": 0,\n        \"max\": 0,\n        \"num_unique_values\": 1,\n        \"samples\": [\n          0\n        ],\n        \"semantic_type\": \"\",\n        \"description\": \"\"\n      }\n    },\n    {\n      \"column\": \"pct_owes_2\",\n      \"properties\": {\n        \"dtype\": \"number\",\n        \"std\": null,\n        \"min\": 0,\n        \"max\": 0,\n        \"num_unique_values\": 1,\n        \"samples\": [\n          0\n        ],\n        \"semantic_type\": \"\",\n        \"description\": \"\"\n      }\n    },\n    {\n      \"column\": \"pct_paid_0\",\n      \"properties\": {\n        \"dtype\": \"number\",\n        \"std\": null,\n        \"min\": 0,\n        \"max\": 0,\n        \"num_unique_values\": 1,\n        \"samples\": [\n          0\n        ],\n        \"semantic_type\": \"\",\n        \"description\": \"\"\n      }\n    },\n    {\n      \"column\": \"pct_paid_1\",\n      \"properties\": {\n        \"dtype\": \"number\",\n        \"std\": null,\n        \"min\": 100,\n        \"max\": 100,\n        \"num_unique_values\": 1,\n        \"samples\": [\n          100\n        ],\n        \"semantic_type\": \"\",\n        \"description\": \"\"\n      }\n    },\n    {\n      \"column\": \"pct_paid_2\",\n      \"properties\": {\n        \"dtype\": \"number\",\n        \"std\": null,\n        \"min\": 0,\n        \"max\": 0,\n        \"num_unique_values\": 1,\n        \"samples\": [\n          0\n        ],\n        \"semantic_type\": \"\",\n        \"description\": \"\"\n      }\n    }\n  ]\n}"
            }
          },
          "metadata": {},
          "execution_count": 106
        }
      ]
    },
    {
      "cell_type": "code",
      "source": [
        "# @title Delete entries\n",
        "\n",
        "INDEX_TO_DELETE = -1 #@param {type: \"number\"}\n",
        "if INDEX_TO_DELETE >= 0:\n",
        "  expenses_df = expenses_df.drop(INDEX_TO_DELETE)\n",
        "  print('Result:')\n",
        "  expenses_df"
      ],
      "metadata": {
        "id": "esAHlpQ1Nu6M"
      },
      "execution_count": 107,
      "outputs": []
    },
    {
      "cell_type": "code",
      "source": [
        "def is_valid_expense(new_expense):\n",
        "  if new_expense['what'] == '':\n",
        "    return False\n",
        "  if new_expense['price_usd'] <= 0:\n",
        "    return False\n",
        "\n",
        "  total_pct_paid = 0\n",
        "  total_pct_owed = 0\n",
        "  for i in range(NUM_PEOPLE):\n",
        "    total_pct_paid += new_expense['pct_paid_%d' % i]\n",
        "    total_pct_owed += new_expense['pct_owes_%d' % i]\n",
        "  if total_pct_paid != 100 or total_pct_owed != 100:\n",
        "    return False\n",
        "  return True\n"
      ],
      "metadata": {
        "id": "zXr1s1j0Kdn1"
      },
      "execution_count": 108,
      "outputs": []
    },
    {
      "cell_type": "code",
      "source": [
        "write_to_sheets(expenses_df, SHEET_ID, TAB_NAME)"
      ],
      "metadata": {
        "id": "hUP2APmBGYSX"
      },
      "execution_count": 109,
      "outputs": []
    }
  ]
}